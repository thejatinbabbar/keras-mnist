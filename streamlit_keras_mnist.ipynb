{
  "nbformat": 4,
  "nbformat_minor": 0,
  "metadata": {
    "colab": {
      "name": "Copy of run_streamlit.ipynb",
      "provenance": [],
      "authorship_tag": "ABX9TyMczdv9DNu0Hc+69BByDsGi",
      "include_colab_link": true
    },
    "kernelspec": {
      "name": "python3",
      "display_name": "Python 3"
    }
  },
  "cells": [
    {
      "cell_type": "markdown",
      "metadata": {
        "id": "view-in-github",
        "colab_type": "text"
      },
      "source": [
        "<a href=\"https://colab.research.google.com/github/thejatinbabbar/keras-models/blob/master/streamlit_keras_mnist.ipynb\" target=\"_parent\"><img src=\"https://colab.research.google.com/assets/colab-badge.svg\" alt=\"Open In Colab\"/></a>"
      ]
    },
    {
      "cell_type": "code",
      "metadata": {
        "id": "CXdylEfD8cZP",
        "outputId": "bdddde36-a306-4523-c98c-da9ded6a8cd6",
        "colab": {
          "base_uri": "https://localhost:8080/",
          "height": 51
        }
      },
      "source": [
        "import sys\n",
        "import subprocess\n",
        "\n",
        "try:\n",
        "    import streamlit\n",
        "    print('Streamlit imported')\n",
        "except ModuleNotFoundError:\n",
        "    try:\n",
        "        out = subprocess.check_output([sys.executable, '-m', 'pip', 'install', 'streamlit'])\n",
        "        print(out)\n",
        "    except Exception as e:\n",
        "        print(e)\n",
        "\n",
        "try:\n",
        "    from pyngrok import ngrok\n",
        "    print('Pyngrok imported')\n",
        "except ModuleNotFoundError:\n",
        "    try:\n",
        "        out = subprocess.check_output([sys.executable, '-m', 'pip', 'install', 'pyngrok'])\n",
        "        print(out)\n",
        "        from pyngrok import ngrok\n",
        "    except Exception as e:\n",
        "        print(e)"
      ],
      "execution_count": 1,
      "outputs": [
        {
          "output_type": "stream",
          "text": [
            "Streamlit imported\n",
            "Pyngrok imported\n"
          ],
          "name": "stdout"
        }
      ]
    },
    {
      "cell_type": "code",
      "metadata": {
        "id": "ubp677OF8YIC",
        "outputId": "64a7b9ad-a970-41e5-ea2b-ec466736aca3",
        "colab": {
          "base_uri": "https://localhost:8080/",
          "height": 34
        }
      },
      "source": [
        "%%writefile app.py\n",
        "import streamlit as st\n",
        "import pandas as pd\n",
        "from tensorflow import keras\n",
        "\n",
        "st.title('Keras MNIST')\n",
        "\n",
        "# print(keras.__version__)\n",
        "\n",
        "st.header('Dataset')\n",
        "df_train = pd.read_csv('/content/sample_data/mnist_train_small.csv', header=None)\n",
        "df_test = pd.read_csv('/content/sample_data/mnist_test.csv', header=None)\n",
        "\n",
        "# df_train.head()\n",
        "st.write('DF Train')\n",
        "st.write(df_train)\n",
        "\n",
        "# df_test.head()\n",
        "st.write('DF Test')\n",
        "st.write(df_test)\n",
        "\n",
        "st.write(df_train.info())\n",
        "\n",
        "st.write(df_test.info())\n",
        "\n",
        "x_train, y_train = df_train.loc[:, 1:], df_train.loc[:, 0]\n",
        "x_test, y_test = df_test.loc[:, 1:], df_test.loc[:, 0]\n",
        "\n",
        "def normalize(feat):\n",
        "    feat = feat / 255\n",
        "    return feat\n",
        "\n",
        "x_train = normalize(x_train)\n",
        "x_test = normalize(x_test)\n",
        "\n",
        "y_train = keras.utils.to_categorical(y_train)\n",
        "y_test = keras.utils.to_categorical(y_test)\n",
        "\n",
        "from sklearn.model_selection import train_test_split\n",
        "x_train, x_val, y_train, y_val = train_test_split(x_train, y_train, test_size=0.25, random_state=101)\n",
        "\n",
        "from tensorflow.keras import Sequential\n",
        "from tensorflow.keras.layers import Dense, Input\n",
        "\n",
        "model = Sequential()\n",
        "model.add(Dense(32, activation='relu', input_shape=(784,)))\n",
        "model.add(Dense(64, activation='relu'))\n",
        "model.add(Dense(10, activation='softmax'))\n",
        "\n",
        "model.compile(optimizer='adam', metrics='accuracy', loss='categorical_crossentropy')\n",
        "\n",
        "model.fit(x_train, y_train, batch_size=32, epochs=5, validation_data=(x_val, y_val))\n",
        "\n",
        "model.evaluate(x_test, y_test)"
      ],
      "execution_count": 2,
      "outputs": [
        {
          "output_type": "stream",
          "text": [
            "Overwriting app.py\n"
          ],
          "name": "stdout"
        }
      ]
    },
    {
      "cell_type": "code",
      "metadata": {
        "id": "fVgo4wpEOyrH",
        "outputId": "0ede8282-bba4-4f7d-8cf7-77a92079b727",
        "colab": {
          "base_uri": "https://localhost:8080/",
          "height": 309
        }
      },
      "source": [
        "public_url = ngrok.connect(port='8501')"
      ],
      "execution_count": 3,
      "outputs": [
        {
          "output_type": "stream",
          "text": [
            ""
          ],
          "name": "stdout"
        },
        {
          "output_type": "stream",
          "text": [
            "2020-10-05 10:24:08.938 INFO    pyngrok.process: ngrok process starting: 231\n",
            "2020-10-05 10:24:08.953 INFO    pyngrok.process: t=2020-10-05T10:24:08+0000 lvl=info msg=\"no configuration paths supplied\"\n",
            "2020-10-05 10:24:08.957 INFO    pyngrok.process: t=2020-10-05T10:24:08+0000 lvl=info msg=\"using configuration at default config path\" path=/root/.ngrok2/ngrok.yml\n",
            "2020-10-05 10:24:08.958 INFO    pyngrok.process: t=2020-10-05T10:24:08+0000 lvl=info msg=\"open config file\" path=/root/.ngrok2/ngrok.yml err=nil\n",
            "2020-10-05 10:24:08.961 INFO    pyngrok.process: t=2020-10-05T10:24:08+0000 lvl=info msg=\"starting web service\" obj=web addr=127.0.0.1:4040\n",
            "2020-10-05 10:24:09.757 INFO    pyngrok.process: t=2020-10-05T10:24:09+0000 lvl=info msg=\"tunnel session started\" obj=tunnels.session\n",
            "2020-10-05 10:24:09.758 INFO    pyngrok.process: t=2020-10-05T10:24:09+0000 lvl=info msg=\"client session established\" obj=csess id=87d01cc05248\n",
            "2020-10-05 10:24:09.763 INFO    pyngrok.process: ngrok process has started: http://127.0.0.1:4040\n",
            "2020-10-05 10:24:09.768 INFO    pyngrok.process: t=2020-10-05T10:24:09+0000 lvl=info msg=start pg=/api/tunnels id=1ad5f238357b764a\n",
            "2020-10-05 10:24:09.777 INFO    pyngrok.process: t=2020-10-05T10:24:09+0000 lvl=info msg=end pg=/api/tunnels id=1ad5f238357b764a status=200 dur=361.909µs\n",
            "2020-10-05 10:24:09.780 INFO    pyngrok.process: t=2020-10-05T10:24:09+0000 lvl=info msg=start pg=/api/tunnels id=2a3d63c5c52ae1a8\n",
            "2020-10-05 10:24:09.781 INFO    pyngrok.process: t=2020-10-05T10:24:09+0000 lvl=info msg=end pg=/api/tunnels id=2a3d63c5c52ae1a8 status=200 dur=140.753µs\n",
            "2020-10-05 10:24:09.782 INFO    pyngrok.process: t=2020-10-05T10:24:09+0000 lvl=info msg=start pg=/api/tunnels id=c25a6970acc1be5b\n",
            "2020-10-05 10:24:10.164 INFO    pyngrok.process: t=2020-10-05T10:24:10+0000 lvl=info msg=\"started tunnel\" obj=tunnels name=\"http-8501-fed53c0e-1b69-42cf-91b4-01ea8f17a586 (http)\" addr=http://localhost:8501 url=http://d499191a9de9.ngrok.io\n",
            "2020-10-05 10:24:10.167 INFO    pyngrok.process: t=2020-10-05T10:24:10+0000 lvl=info msg=\"started tunnel\" obj=tunnels name=http-8501-fed53c0e-1b69-42cf-91b4-01ea8f17a586 addr=http://localhost:8501 url=https://d499191a9de9.ngrok.io\n",
            "2020-10-05 10:24:10.169 INFO    pyngrok.process: t=2020-10-05T10:24:10+0000 lvl=info msg=end pg=/api/tunnels id=c25a6970acc1be5b status=201 dur=385.307498ms\n"
          ],
          "name": "stderr"
        }
      ]
    },
    {
      "cell_type": "code",
      "metadata": {
        "id": "-hnSM4IcO0Fz",
        "outputId": "326e526a-01f7-4f39-d985-6c2a2a3054fe",
        "colab": {
          "base_uri": "https://localhost:8080/",
          "height": 35
        }
      },
      "source": [
        "public_url"
      ],
      "execution_count": 4,
      "outputs": [
        {
          "output_type": "execute_result",
          "data": {
            "application/vnd.google.colaboratory.intrinsic+json": {
              "type": "string"
            },
            "text/plain": [
              "'http://d499191a9de9.ngrok.io'"
            ]
          },
          "metadata": {
            "tags": []
          },
          "execution_count": 4
        }
      ]
    },
    {
      "cell_type": "code",
      "metadata": {
        "id": "my_jTDXN8xlU"
      },
      "source": [
        "!streamlit run app.py &>/dev/null&"
      ],
      "execution_count": 5,
      "outputs": []
    },
    {
      "cell_type": "code",
      "metadata": {
        "id": "p62mDHpd9TYn"
      },
      "source": [
        ""
      ],
      "execution_count": 5,
      "outputs": []
    }
  ]
}